{
 "cells": [
  {
   "cell_type": "code",
   "execution_count": null,
   "id": "edada901-6153-44d8-bede-24cbe2d92fb9",
   "metadata": {},
   "outputs": [],
   "source": [
    "%load_ext autoreload\n",
    "\n",
    "%autoreload 2"
   ]
  },
  {
   "cell_type": "code",
   "execution_count": null,
   "id": "0fa1760a-df57-4cd0-9c7e-f5c262ad3ae3",
   "metadata": {},
   "outputs": [],
   "source": [
    "from rxnorm.core import getAllRelatedInfo"
   ]
  },
  {
   "cell_type": "code",
   "execution_count": null,
   "id": "1e0beb1b-01e1-425d-9d99-c12bb06a33ca",
   "metadata": {},
   "outputs": [],
   "source": [
    "getAllRelatedInfo(10582)"
   ]
  },
  {
   "cell_type": "code",
   "execution_count": null,
   "id": "b4a28940-064c-438c-a22f-22eb5efd3383",
   "metadata": {},
   "outputs": [],
   "source": []
  }
 ],
 "metadata": {
  "kernelspec": {
   "display_name": "Python 3",
   "language": "python",
   "name": "python3"
  },
  "language_info": {
   "codemirror_mode": {
    "name": "ipython",
    "version": 3
   },
   "file_extension": ".py",
   "mimetype": "text/x-python",
   "name": "python",
   "nbconvert_exporter": "python",
   "pygments_lexer": "ipython3",
   "version": "3.7.4"
  }
 },
 "nbformat": 4,
 "nbformat_minor": 5
}
